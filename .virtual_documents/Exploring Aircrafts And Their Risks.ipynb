














# Import standard packages
import pandas as pd
import numpy as np
import matplotlib.pyplot as plt
import seaborn as sns

%matplotlib inline


# Create a variable to save the dataset
aviation_data = pd.read_csv('data/Aviation_data.csv')

# View the dataset
aviation_data


aviation_data.shape





# Enables the viewing of column names, their data types and the number of values in them
aviation_data.info()


# Returns the number of null values in each column
aviation_data.isna().sum()





# Returns the percentage of missing values in each column
percent_missing = aviation_data.isnull().sum() * 100 / len(aviation_data)
percent_missing = percent_missing.sort_values(ascending = False)
percent_missing





# Finding out the number of duplicate events based on the Event.Id column
duplicates = aviation_data[aviation_data.duplicated(subset='Event.Id')]
print(len(duplicates))
duplicates











aviation_data = aviation_data.drop_duplicates(subset = 'Event.Id')
aviation_data











percent_missing





aviation_data = aviation_data.drop(['Air.carrier', 'Schedule', 'Aircraft.Category', 'Airport.Code', 'Airport.Name', 'Longitude', 'Latitude', 'FAR.Description', 'Publication.Date', 'Registration.Number', 'Country', 'Location', 'Report.Status', 'Weather.Condition'], axis = 1)
aviation_data
aviation_data.info()





aviation_data = aviation_data.dropna(subset=['Broad.phase.of.flight'])
aviation_data
aviation_data.info()





# Extracts the number from each value in the Injury.Severity column. e.g Fatal(2) -> 2 and fills the Fatility column with those numbers
aviation_data['Fatality'] = aviation_data['Injury.Severity'].str.extract(r'\((\d+)\)')

# Fills the NaN values in the Fatility column with categorical values from Injury.Severitiy
aviation_data['Fatality'].fillna(aviation_data['Injury.Severity'], inplace=True)

# Replaces the categorical values with 0
aviation_data['Fatality'].replace({'Non-Fatal': 0, 'Minor': 0, 'Serious': 0, 'Incident': 0}, inplace=True)

# 
aviation_data['Fatality'] = aviation_data.apply(lambda row: row['Total.Fatal.Injuries'] if row['Fatality'] == 'Fatal' else row['Fatality'], axis=1)

# Replaces the 'Unavailable' values with NaN
aviation_data['Fatality'].replace('Unavailable', np.nan, inplace=True)

# Changes the values from strings to integers
aviation_data['Fatality'][~aviation_data['Fatality'].isna()] = aviation_data['Fatality'][~aviation_data['Fatality'].isna()].astype(int)

# Changes to float
pd.options.display.float_format = '{:.0f}'.format

aviation_data = aviation_data.drop(['Injury.Severity','Total.Fatal.Injuries'], axis = 1)
aviation_data.info()





# Convert the Event.Date column to date type
aviation_data['Event.Date'] = pd.to_datetime(aviation_data['Event.Date'], format='%Y-%m-%d')

# Create a new column ('Year') that contains extracted years from the 'Event.Date' column
aviation_data['Year'] = aviation_data['Event.Date'].dt.year

aviation_data = aviation_data.drop(['Event.Date'], axis = 1)

aviation_data


# Check the percentage of missing values per column for the updated dataset
tmp = aviation_data
percent_missing = tmp.isnull().sum() * 100 / len(aviation_data)
percent_missing = percent_missing.sort_values(ascending = False)
percent_missing











# Making a subset of Make, Model and adding an Accident Count of each aircraft
makes_models_accident_counts = aviation_data.groupby(['Make', 'Model']).size().reset_index(name='Accident_count', drop=False)
makes_models_accident_counts = makes_models_accident_counts.sort_values(by='Accident_count', ascending=False)
makes_models_accident_counts


# Find the top 10 makes
top_10_makes = aviation_data['Make'].value_counts().nlargest(10).sort_values(ascending = False)

plt.figure(figsize=(8, 5))

# Plot the first visualization
color = ['red', 'orange', 'darkblue', 'darkred', 'yellow']
top_10_makes.plot(kind = 'bar', color=color)
plt.title('Distribution of Accidents by Aircraft Makes (Top 10)')
plt.xlabel('Aircraft Make')
plt.ylabel('Number of Accidents')
plt.xticks(rotation=45, ha='right')  
plt.tight_layout()

# Plot the second visualization
fig, axes = plt.subplots(figsize=(12, 5))
bottom_10_makes = makes_models_accident_counts.tail(10)
axes.bar(bottom_10_makes['Make'], bottom_10_makes['Accident_count'], color=color)
axes.set_xlabel('Number of Accidents')
axes.set_ylabel('Make')
axes.set_title('Bottom Aircraft Makes Involved in Accidents')
plt.xticks(rotation=45, ha='right')  


plt.show()








fig, axes = plt.subplots(1, 2, figsize=(12, 4))

# Plot the first visualization
color = ['red', 'orange', 'darkblue', 'darkred', 'yellow']
top_10_make_model = makes_models_accident_counts.head(10)
axes[0].barh(top_10_make_model['Make'] + ' ' + top_10_make_model['Model'], top_10_make_model['Accident_count'], color=color)
axes[0].set_xlabel('Number of Accidents')
axes[0].set_ylabel('Make and Model')
axes[0].set_title('Top 10 Aircraft Makes and Models Involved in Accidents')
axes[0].invert_yaxis()

# Plot the second visualization
bottom_10_make_model = makes_models_accident_counts.tail(10)
axes[1].bar(bottom_10_make_model['Make'] + ' ' + bottom_10_make_model['Model'], bottom_10_make_model['Accident_count'], color=color)
axes[1].set_xlabel('Number of Accidents')
axes[1].set_ylabel('Make and Model')
axes[1].set_title('Bottom 10 Aircraft Makes and Models Involved in Accidents')
plt.xticks(rotation=45, ha='right')  

plt.show()





purposes = aviation_data['Purpose.of.flight'].value_counts()

fig, axes = plt.subplots(1, 2, figsize=(12, 4))

# Plot the first visualization

color = ['red', 'orange', 'darkblue', 'darkred', 'yellow']
top_10_purposes = purposes.head(10)

# Convert the index and values to list type in order to plot the visualization
axes[0].barh(list(top_10_purposes.index), list(top_10_purposes.values), color=color)
axes[0].set_xlabel('Number of Accidents')
axes[0].set_ylabel('Purposes')
axes[0].set_title('Top 10 Purposes involving accidents')
axes[0].invert_yaxis()
  

# Plot the second visualization

bottom_10_purposes = purposes.tail(10)

# Convert the index and values to list type in order to plot the visualization
axes[1].bar(list(bottom_10_purposes.index), list(bottom_10_purposes.values), color=color)
axes[1].set_xlabel('Number of Accidents')
axes[1].set_ylabel('Purposes')
axes[1].set_title('Bottom 10 Purposes involving accidents')
plt.xticks(rotation=45, ha='right')  

plt.show()





bottom_10_make_model
